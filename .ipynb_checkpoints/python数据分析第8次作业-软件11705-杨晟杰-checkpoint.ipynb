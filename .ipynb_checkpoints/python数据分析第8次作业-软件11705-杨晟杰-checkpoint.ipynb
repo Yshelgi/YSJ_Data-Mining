{
 "cells": [
  {
   "cell_type": "code",
   "execution_count": 1,
   "metadata": {},
   "outputs": [],
   "source": [
    "import pandas as pd\n",
    "import numpy as np\n",
    "import matplotlib.pyplot as plt\n",
    "from PIL import Image\n",
    "import os\n",
    "\n",
    "plt.rcParams['font.family']='FangSong'\n",
    "plt.rcParams['axes.unicode_minus']=False"
   ]
  },
  {
   "cell_type": "markdown",
   "metadata": {},
   "source": [
    "# 这里就直接导入前几天做的颜色矩数据集"
   ]
  },
  {
   "cell_type": "code",
   "execution_count": 2,
   "metadata": {},
   "outputs": [
    {
     "data": {
      "text/html": [
       "<div>\n",
       "<style scoped>\n",
       "    .dataframe tbody tr th:only-of-type {\n",
       "        vertical-align: middle;\n",
       "    }\n",
       "\n",
       "    .dataframe tbody tr th {\n",
       "        vertical-align: top;\n",
       "    }\n",
       "\n",
       "    .dataframe thead th {\n",
       "        text-align: right;\n",
       "    }\n",
       "</style>\n",
       "<table border=\"1\" class=\"dataframe\">\n",
       "  <thead>\n",
       "    <tr style=\"text-align: right;\">\n",
       "      <th></th>\n",
       "      <th>水质类别</th>\n",
       "      <th>序号</th>\n",
       "      <th>R通道一阶矩</th>\n",
       "      <th>G通道一阶矩</th>\n",
       "      <th>B通道一阶矩</th>\n",
       "      <th>R通道二阶矩</th>\n",
       "      <th>G通道二阶矩</th>\n",
       "      <th>B通道二阶矩</th>\n",
       "      <th>R通道三阶矩</th>\n",
       "      <th>G通道三阶矩</th>\n",
       "      <th>B通道三阶矩</th>\n",
       "    </tr>\n",
       "  </thead>\n",
       "  <tbody>\n",
       "    <tr>\n",
       "      <th>0</th>\n",
       "      <td>1.0</td>\n",
       "      <td>1.0</td>\n",
       "      <td>0.582761</td>\n",
       "      <td>0.543679</td>\n",
       "      <td>0.252429</td>\n",
       "      <td>0.014219</td>\n",
       "      <td>0.016178</td>\n",
       "      <td>0.041121</td>\n",
       "      <td>-0.012616</td>\n",
       "      <td>-0.016063</td>\n",
       "      <td>-0.041421</td>\n",
       "    </tr>\n",
       "    <tr>\n",
       "      <th>1</th>\n",
       "      <td>1.0</td>\n",
       "      <td>10.0</td>\n",
       "      <td>0.641878</td>\n",
       "      <td>0.570779</td>\n",
       "      <td>0.213561</td>\n",
       "      <td>0.015386</td>\n",
       "      <td>0.011118</td>\n",
       "      <td>0.013643</td>\n",
       "      <td>-0.009581</td>\n",
       "      <td>-0.003777</td>\n",
       "      <td>-0.003660</td>\n",
       "    </tr>\n",
       "    <tr>\n",
       "      <th>2</th>\n",
       "      <td>1.0</td>\n",
       "      <td>11.0</td>\n",
       "      <td>0.603720</td>\n",
       "      <td>0.576788</td>\n",
       "      <td>0.282187</td>\n",
       "      <td>0.008662</td>\n",
       "      <td>0.007072</td>\n",
       "      <td>0.012218</td>\n",
       "      <td>-0.004718</td>\n",
       "      <td>-0.002625</td>\n",
       "      <td>-0.009478</td>\n",
       "    </tr>\n",
       "    <tr>\n",
       "      <th>3</th>\n",
       "      <td>1.0</td>\n",
       "      <td>12.0</td>\n",
       "      <td>0.589708</td>\n",
       "      <td>0.593720</td>\n",
       "      <td>0.252203</td>\n",
       "      <td>0.007903</td>\n",
       "      <td>0.005937</td>\n",
       "      <td>0.010584</td>\n",
       "      <td>-0.003378</td>\n",
       "      <td>-0.003397</td>\n",
       "      <td>-0.005270</td>\n",
       "    </tr>\n",
       "    <tr>\n",
       "      <th>4</th>\n",
       "      <td>1.0</td>\n",
       "      <td>13.0</td>\n",
       "      <td>0.591129</td>\n",
       "      <td>0.592054</td>\n",
       "      <td>0.253430</td>\n",
       "      <td>0.007462</td>\n",
       "      <td>0.006502</td>\n",
       "      <td>0.012149</td>\n",
       "      <td>-0.001343</td>\n",
       "      <td>-0.002168</td>\n",
       "      <td>-0.004776</td>\n",
       "    </tr>\n",
       "  </tbody>\n",
       "</table>\n",
       "</div>"
      ],
      "text/plain": [
       "   水质类别    序号    R通道一阶矩    G通道一阶矩    B通道一阶矩    R通道二阶矩    G通道二阶矩    B通道二阶矩  \\\n",
       "0   1.0   1.0  0.582761  0.543679  0.252429  0.014219  0.016178  0.041121   \n",
       "1   1.0  10.0  0.641878  0.570779  0.213561  0.015386  0.011118  0.013643   \n",
       "2   1.0  11.0  0.603720  0.576788  0.282187  0.008662  0.007072  0.012218   \n",
       "3   1.0  12.0  0.589708  0.593720  0.252203  0.007903  0.005937  0.010584   \n",
       "4   1.0  13.0  0.591129  0.592054  0.253430  0.007462  0.006502  0.012149   \n",
       "\n",
       "     R通道三阶矩    G通道三阶矩    B通道三阶矩  \n",
       "0 -0.012616 -0.016063 -0.041421  \n",
       "1 -0.009581 -0.003777 -0.003660  \n",
       "2 -0.004718 -0.002625 -0.009478  \n",
       "3 -0.003378 -0.003397 -0.005270  \n",
       "4 -0.001343 -0.002168 -0.004776  "
      ]
     },
     "execution_count": 2,
     "metadata": {},
     "output_type": "execute_result"
    }
   ],
   "source": [
    "# 开始导入我们做好的特征数据集，进行数据集划分并建模\n",
    "from sklearn.model_selection import  train_test_split\n",
    "from sklearn import svm\n",
    "from sklearn import metrics\n",
    "\n",
    "\n",
    "data=pd.read_csv('./result.csv',encoding='utf-8')\n",
    "data.head()"
   ]
  },
  {
   "cell_type": "code",
   "execution_count": 3,
   "metadata": {},
   "outputs": [
    {
     "name": "stdout",
     "output_type": "stream",
     "text": [
      "<class 'pandas.core.frame.DataFrame'>\n",
      "RangeIndex: 203 entries, 0 to 202\n",
      "Data columns (total 11 columns):\n",
      "水质类别      203 non-null float64\n",
      "序号        203 non-null float64\n",
      "R通道一阶矩    203 non-null float64\n",
      "G通道一阶矩    203 non-null float64\n",
      "B通道一阶矩    203 non-null float64\n",
      "R通道二阶矩    203 non-null float64\n",
      "G通道二阶矩    203 non-null float64\n",
      "B通道二阶矩    203 non-null float64\n",
      "R通道三阶矩    203 non-null float64\n",
      "G通道三阶矩    203 non-null float64\n",
      "B通道三阶矩    203 non-null float64\n",
      "dtypes: float64(11)\n",
      "memory usage: 17.5 KB\n"
     ]
    }
   ],
   "source": [
    "data.info()"
   ]
  },
  {
   "cell_type": "code",
   "execution_count": 4,
   "metadata": {},
   "outputs": [
    {
     "name": "stdout",
     "output_type": "stream",
     "text": [
      "(142, 9) (61, 9)\n"
     ]
    }
   ],
   "source": [
    "#因为数据很小，为了增大数据区分度所以对X乘以30，避免过拟合\n",
    "X=data.iloc[:,2:]*30\n",
    "Y=data['水质类别']\n",
    "Y=Y.astype(int)\n",
    "X_train,X_test,y_train,y_test=train_test_split(X,Y,test_size=0.3,random_state=2)\n",
    "print(X_train.shape,X_test.shape)"
   ]
  },
  {
   "cell_type": "code",
   "execution_count": 5,
   "metadata": {},
   "outputs": [],
   "source": [
    "#混淆矩阵可视化\n",
    "import seaborn as sns\n",
    "\n",
    "def plot_confusion_matrix(confusion_mat):\n",
    "    df_cm = pd.DataFrame(confusion_mat,index=[1,2,3,4,5],columns=[1,2,3,4,5])\n",
    "    ax = sns.heatmap(df_cm,annot=True,fmt='.20g')\n",
    "    ax.set_title('混淆矩阵')\n",
    "    ax.set_xlabel('预测标签')\n",
    "    ax.set_ylabel('真实标签')\n",
    "    plt.show()"
   ]
  },
  {
   "cell_type": "code",
   "execution_count": 6,
   "metadata": {},
   "outputs": [
    {
     "name": "stderr",
     "output_type": "stream",
     "text": [
      "C:\\ProgramData\\Anaconda3\\lib\\site-packages\\tensorflow\\python\\framework\\dtypes.py:526: FutureWarning: Passing (type, 1) or '1type' as a synonym of type is deprecated; in a future version of numpy, it will be understood as (type, (1,)) / '(1,)type'.\n",
      "  _np_qint8 = np.dtype([(\"qint8\", np.int8, 1)])\n",
      "C:\\ProgramData\\Anaconda3\\lib\\site-packages\\tensorflow\\python\\framework\\dtypes.py:527: FutureWarning: Passing (type, 1) or '1type' as a synonym of type is deprecated; in a future version of numpy, it will be understood as (type, (1,)) / '(1,)type'.\n",
      "  _np_quint8 = np.dtype([(\"quint8\", np.uint8, 1)])\n",
      "C:\\ProgramData\\Anaconda3\\lib\\site-packages\\tensorflow\\python\\framework\\dtypes.py:528: FutureWarning: Passing (type, 1) or '1type' as a synonym of type is deprecated; in a future version of numpy, it will be understood as (type, (1,)) / '(1,)type'.\n",
      "  _np_qint16 = np.dtype([(\"qint16\", np.int16, 1)])\n",
      "C:\\ProgramData\\Anaconda3\\lib\\site-packages\\tensorflow\\python\\framework\\dtypes.py:529: FutureWarning: Passing (type, 1) or '1type' as a synonym of type is deprecated; in a future version of numpy, it will be understood as (type, (1,)) / '(1,)type'.\n",
      "  _np_quint16 = np.dtype([(\"quint16\", np.uint16, 1)])\n",
      "C:\\ProgramData\\Anaconda3\\lib\\site-packages\\tensorflow\\python\\framework\\dtypes.py:530: FutureWarning: Passing (type, 1) or '1type' as a synonym of type is deprecated; in a future version of numpy, it will be understood as (type, (1,)) / '(1,)type'.\n",
      "  _np_qint32 = np.dtype([(\"qint32\", np.int32, 1)])\n",
      "C:\\ProgramData\\Anaconda3\\lib\\site-packages\\tensorflow\\python\\framework\\dtypes.py:535: FutureWarning: Passing (type, 1) or '1type' as a synonym of type is deprecated; in a future version of numpy, it will be understood as (type, (1,)) / '(1,)type'.\n",
      "  np_resource = np.dtype([(\"resource\", np.ubyte, 1)])\n",
      "Using TensorFlow backend.\n"
     ]
    }
   ],
   "source": [
    "# 开始搭建神经网络\n",
    "import tensorflow as tf\n",
    "from keras.utils import np_utils\n",
    "from keras.models import Sequential\n",
    "from keras.layers import Conv2D, Dense, AveragePooling2D, Flatten, BatchNormalization\n",
    "from keras.optimizers import Adam\n",
    "\n",
    "\n",
    "X_train = X_train.astype('float32').values.reshape(len(X_train),3,3,1)\n",
    "X_test = X_test.astype('float32').values.reshape(len(X_test),3,3,1)\n",
    "\n",
    "#因为类别不是从0开始编号，所以进行one-hot编码时减1\n",
    "Y_train = np_utils.to_categorical(y_train-1)\n",
    "Y_test = np_utils.to_categorical(y_test-1)"
   ]
  },
  {
   "cell_type": "code",
   "execution_count": 11,
   "metadata": {},
   "outputs": [
    {
     "name": "stdout",
     "output_type": "stream",
     "text": [
      "Training\n",
      "Train on 127 samples, validate on 15 samples\n",
      "Epoch 1/50\n",
      "127/127 [==============================] - 0s 4ms/step - loss: 1.5788 - accuracy: 0.2992 - val_loss: 1.6052 - val_accuracy: 0.2000\n",
      "Epoch 2/50\n",
      "127/127 [==============================] - 0s 992us/step - loss: 1.4885 - accuracy: 0.4488 - val_loss: 1.5984 - val_accuracy: 0.2000\n",
      "Epoch 3/50\n",
      "127/127 [==============================] - 0s 1ms/step - loss: 1.3634 - accuracy: 0.6063 - val_loss: 1.5785 - val_accuracy: 0.6000\n",
      "Epoch 4/50\n",
      "127/127 [==============================] - 0s 1ms/step - loss: 1.2501 - accuracy: 0.6772 - val_loss: 1.5501 - val_accuracy: 0.4667\n",
      "Epoch 5/50\n",
      "127/127 [==============================] - 0s 1ms/step - loss: 1.1591 - accuracy: 0.6929 - val_loss: 1.5082 - val_accuracy: 0.4000\n",
      "Epoch 6/50\n",
      "127/127 [==============================] - 0s 1ms/step - loss: 1.0627 - accuracy: 0.7087 - val_loss: 1.4487 - val_accuracy: 0.4667\n",
      "Epoch 7/50\n",
      "127/127 [==============================] - 0s 1ms/step - loss: 0.9688 - accuracy: 0.7323 - val_loss: 1.3907 - val_accuracy: 0.4000\n",
      "Epoch 8/50\n",
      "127/127 [==============================] - 0s 1ms/step - loss: 0.9311 - accuracy: 0.7638 - val_loss: 1.3060 - val_accuracy: 0.4667\n",
      "Epoch 9/50\n",
      "127/127 [==============================] - 0s 1ms/step - loss: 0.9233 - accuracy: 0.7244 - val_loss: 1.2608 - val_accuracy: 0.5333\n",
      "Epoch 10/50\n",
      "127/127 [==============================] - 0s 1ms/step - loss: 0.7294 - accuracy: 0.8268 - val_loss: 1.1375 - val_accuracy: 0.6000\n",
      "Epoch 11/50\n",
      "127/127 [==============================] - 0s 1ms/step - loss: 0.8328 - accuracy: 0.6929 - val_loss: 1.2084 - val_accuracy: 0.4667\n",
      "Epoch 12/50\n",
      "127/127 [==============================] - 0s 1ms/step - loss: 0.6661 - accuracy: 0.8189 - val_loss: 1.0260 - val_accuracy: 0.6000\n",
      "Epoch 13/50\n",
      "127/127 [==============================] - 0s 1ms/step - loss: 0.6578 - accuracy: 0.7953 - val_loss: 0.9700 - val_accuracy: 0.6000\n",
      "Epoch 14/50\n",
      "127/127 [==============================] - 0s 1ms/step - loss: 0.6227 - accuracy: 0.7717 - val_loss: 1.0016 - val_accuracy: 0.6000\n",
      "Epoch 15/50\n",
      "127/127 [==============================] - 0s 1ms/step - loss: 0.6503 - accuracy: 0.8110 - val_loss: 0.8594 - val_accuracy: 0.6000\n",
      "Epoch 16/50\n",
      "127/127 [==============================] - 0s 1ms/step - loss: 0.8458 - accuracy: 0.6850 - val_loss: 0.8658 - val_accuracy: 0.6000\n",
      "Epoch 17/50\n",
      "127/127 [==============================] - 0s 1ms/step - loss: 0.7072 - accuracy: 0.7165 - val_loss: 0.7895 - val_accuracy: 0.6667\n",
      "Epoch 18/50\n",
      "127/127 [==============================] - 0s 1ms/step - loss: 0.6994 - accuracy: 0.7402 - val_loss: 0.8157 - val_accuracy: 0.8000\n",
      "Epoch 19/50\n",
      "127/127 [==============================] - 0s 1ms/step - loss: 0.5810 - accuracy: 0.8189 - val_loss: 0.6350 - val_accuracy: 0.8000\n",
      "Epoch 20/50\n",
      "127/127 [==============================] - 0s 1ms/step - loss: 0.6580 - accuracy: 0.7874 - val_loss: 0.6101 - val_accuracy: 0.8667\n",
      "Epoch 21/50\n",
      "127/127 [==============================] - 0s 1ms/step - loss: 0.6213 - accuracy: 0.7795 - val_loss: 0.5037 - val_accuracy: 0.8667\n",
      "Epoch 22/50\n",
      "127/127 [==============================] - 0s 1ms/step - loss: 0.5822 - accuracy: 0.8189 - val_loss: 0.5567 - val_accuracy: 0.9333\n",
      "Epoch 23/50\n",
      "127/127 [==============================] - 0s 1ms/step - loss: 0.6067 - accuracy: 0.8110 - val_loss: 0.7783 - val_accuracy: 0.8000\n",
      "Epoch 24/50\n",
      "127/127 [==============================] - 0s 1ms/step - loss: 0.6417 - accuracy: 0.7244 - val_loss: 0.6274 - val_accuracy: 0.9333\n",
      "Epoch 25/50\n",
      "127/127 [==============================] - 0s 1ms/step - loss: 0.7402 - accuracy: 0.7402 - val_loss: 0.6557 - val_accuracy: 0.8667\n",
      "Epoch 26/50\n",
      "127/127 [==============================] - 0s 1ms/step - loss: 0.5760 - accuracy: 0.7795 - val_loss: 0.8193 - val_accuracy: 0.6667\n",
      "Epoch 27/50\n",
      "127/127 [==============================] - 0s 1ms/step - loss: 0.6175 - accuracy: 0.8031 - val_loss: 0.5555 - val_accuracy: 0.9333\n",
      "Epoch 28/50\n",
      "127/127 [==============================] - 0s 1ms/step - loss: 0.7810 - accuracy: 0.7008 - val_loss: 0.6665 - val_accuracy: 0.8667\n",
      "Epoch 29/50\n",
      "127/127 [==============================] - 0s 1ms/step - loss: 0.5984 - accuracy: 0.7717 - val_loss: 0.6703 - val_accuracy: 0.8000\n",
      "Epoch 30/50\n",
      "127/127 [==============================] - 0s 1ms/step - loss: 0.6830 - accuracy: 0.7008 - val_loss: 0.5917 - val_accuracy: 0.8667\n",
      "Epoch 31/50\n",
      "127/127 [==============================] - 0s 1ms/step - loss: 0.6689 - accuracy: 0.7638 - val_loss: 0.6082 - val_accuracy: 0.9333\n",
      "Epoch 32/50\n",
      "127/127 [==============================] - 0s 1ms/step - loss: 0.4803 - accuracy: 0.8504 - val_loss: 0.6377 - val_accuracy: 0.9333\n",
      "Epoch 33/50\n",
      "127/127 [==============================] - 0s 1ms/step - loss: 0.4936 - accuracy: 0.8425 - val_loss: 0.7142 - val_accuracy: 0.8667\n",
      "Epoch 34/50\n",
      "127/127 [==============================] - 0s 1ms/step - loss: 0.5038 - accuracy: 0.8189 - val_loss: 0.6346 - val_accuracy: 0.9333\n",
      "Epoch 35/50\n",
      "127/127 [==============================] - 0s 1ms/step - loss: 0.4832 - accuracy: 0.7953 - val_loss: 0.7299 - val_accuracy: 0.8000\n",
      "Epoch 36/50\n",
      "127/127 [==============================] - 0s 1ms/step - loss: 0.4690 - accuracy: 0.8110 - val_loss: 0.6242 - val_accuracy: 0.8000\n",
      "Epoch 37/50\n",
      "127/127 [==============================] - 0s 1ms/step - loss: 0.5381 - accuracy: 0.8189 - val_loss: 0.6556 - val_accuracy: 0.8667\n",
      "Epoch 38/50\n",
      "127/127 [==============================] - 0s 1ms/step - loss: 0.4760 - accuracy: 0.8346 - val_loss: 0.7123 - val_accuracy: 0.8000\n",
      "Epoch 39/50\n",
      "127/127 [==============================] - 0s 1ms/step - loss: 0.4269 - accuracy: 0.8504 - val_loss: 0.7375 - val_accuracy: 0.8000\n",
      "Epoch 40/50\n",
      "127/127 [==============================] - 0s 1ms/step - loss: 0.4689 - accuracy: 0.8189 - val_loss: 0.6621 - val_accuracy: 0.8667\n",
      "Epoch 41/50\n",
      "127/127 [==============================] - 0s 1ms/step - loss: 0.4098 - accuracy: 0.8425 - val_loss: 0.6820 - val_accuracy: 0.8000\n",
      "Epoch 42/50\n",
      "127/127 [==============================] - 0s 1ms/step - loss: 0.5772 - accuracy: 0.7559 - val_loss: 0.8018 - val_accuracy: 0.7333\n",
      "Epoch 43/50\n",
      "127/127 [==============================] - 0s 1ms/step - loss: 0.6379 - accuracy: 0.7165 - val_loss: 0.3708 - val_accuracy: 0.9333\n",
      "Epoch 44/50\n",
      "127/127 [==============================] - 0s 1ms/step - loss: 0.6301 - accuracy: 0.7795 - val_loss: 0.5321 - val_accuracy: 0.9333\n",
      "Epoch 45/50\n",
      "127/127 [==============================] - 0s 1ms/step - loss: 0.5167 - accuracy: 0.7874 - val_loss: 0.5812 - val_accuracy: 0.9333\n",
      "Epoch 46/50\n",
      "127/127 [==============================] - 0s 1ms/step - loss: 0.5787 - accuracy: 0.7717 - val_loss: 0.6471 - val_accuracy: 0.8667\n",
      "Epoch 47/50\n",
      "127/127 [==============================] - 0s 1ms/step - loss: 0.5017 - accuracy: 0.8031 - val_loss: 0.8726 - val_accuracy: 0.8000\n",
      "Epoch 48/50\n",
      "127/127 [==============================] - 0s 1ms/step - loss: 0.5133 - accuracy: 0.8189 - val_loss: 0.7324 - val_accuracy: 0.9333\n",
      "Epoch 49/50\n",
      "127/127 [==============================] - 0s 1ms/step - loss: 0.5373 - accuracy: 0.7795 - val_loss: 0.7426 - val_accuracy: 0.9333\n",
      "Epoch 50/50\n",
      "127/127 [==============================] - 0s 1ms/step - loss: 0.5213 - accuracy: 0.8031 - val_loss: 0.6527 - val_accuracy: 0.9333\n",
      "Testing\n",
      "61/61 [==============================] - 0s 82us/step\n",
      "loss, accuracy 0.44104613730164827 0.9344262480735779\n"
     ]
    }
   ],
   "source": [
    "model = Sequential()\n",
    "model.add(Conv2D(6,6, strides=1, padding='same', input_shape=(3,3,1), activation='relu'))\n",
    "model.add(AveragePooling2D(3,2, padding='same'))\n",
    "model.add(BatchNormalization())\n",
    " \n",
    "model.add(Conv2D(9,9, strides=1, padding='same', activation='relu'))\n",
    "model.add(BatchNormalization())\n",
    "model.add(AveragePooling2D(12,3, padding='same'))\n",
    "model.add(Flatten())\n",
    " \n",
    "model.add(Dense(12, activation='relu'))\n",
    "model.add(Dense(8, activation='relu'))\n",
    "model.add(Dense(5, activation='softmax'))\n",
    "\n",
    "\n",
    "adam = Adam(lr=0.001, beta_1=0.9, beta_2=0.999,epsilon=1e-8)\n",
    "model.compile(optimizer=adam, loss='categorical_crossentropy', metrics=['accuracy'])\n",
    "print('Training')\n",
    "result = model.fit(X_train, Y_train, epochs=50, batch_size=6,validation_split=0.1,shuffle=True)\n",
    " \n",
    "print('Testing')\n",
    "loss, accuracy = model.evaluate(X_test, Y_test)\n",
    "print('loss, accuracy', loss, accuracy)"
   ]
  },
  {
   "cell_type": "code",
   "execution_count": 12,
   "metadata": {},
   "outputs": [],
   "source": [
    "# 预测测试集并把测试结果one-hot变为数字\n",
    "cnn_pred=model.predict(X_test)\n",
    "cnn_pred=np.argmax(cnn_pred,axis=1)+1"
   ]
  },
  {
   "cell_type": "code",
   "execution_count": 13,
   "metadata": {},
   "outputs": [
    {
     "name": "stdout",
     "output_type": "stream",
     "text": [
      "----------模型在测试集的结果-------\n",
      "测试集准确率为:93%\n",
      "-----------------\n",
      "测试集混淆矩阵:\n",
      " [[19  1  0  0  0]\n",
      " [ 0  8  0  0  0]\n",
      " [ 2  0 21  0  0]\n",
      " [ 0  0  0  9  0]\n",
      " [ 0  1  0  0  0]]\n",
      "-----------------\n",
      "测试集分类报告:\n",
      "               precision    recall  f1-score   support\n",
      "\n",
      "           1       0.90      0.95      0.93        20\n",
      "           2       0.80      1.00      0.89         8\n",
      "           3       1.00      0.91      0.95        23\n",
      "           4       1.00      1.00      1.00         9\n",
      "           5       0.00      0.00      0.00         1\n",
      "\n",
      "    accuracy                           0.93        61\n",
      "   macro avg       0.74      0.77      0.75        61\n",
      "weighted avg       0.93      0.93      0.93        61\n",
      "\n"
     ]
    }
   ],
   "source": [
    "print('----------模型在测试集的结果-------')\n",
    "test_acc=metrics.accuracy_score(y_test,cnn_pred)*100\n",
    "test_cm=metrics.confusion_matrix(y_test,cnn_pred)\n",
    "test_report=metrics.classification_report(y_test,cnn_pred)\n",
    "print(\"测试集准确率为:%.f\"%test_acc+\"%\")\n",
    "print(\"-----------------\")\n",
    "print(\"测试集混淆矩阵:\\n\",test_cm)\n",
    "print(\"-----------------\")\n",
    "print(\"测试集分类报告:\\n\",test_report)"
   ]
  },
  {
   "cell_type": "code",
   "execution_count": 14,
   "metadata": {},
   "outputs": [
    {
     "data": {
      "image/png": "[encoded data removed]",
      "text/plain": [
       "<Figure size 432x288 with 2 Axes>"
      ]
     },
     "metadata": {
      "needs_background": "light"
     },
     "output_type": "display_data"
    }
   ],
   "source": [
    "# 绘制混淆矩阵\n",
    "plot_confusion_matrix(test_cm)"
   ]
  },
  {
   "cell_type": "markdown",
   "metadata": {},
   "source": [
    "# 最后模型的结果准确率为93%,当然也尝试了其他网络模型以及数据增强，但是无奈读取整个图片的话总是处理不好过拟合问题，所以还是用的颜色矩。由于数据样本少所以网络一定不能太复杂，而且想过搭建多个简单网络从而变成一个强分类器，不过碍于时间问题还是没去实现。"
   ]
  },
  {
   "cell_type": "code",
   "execution_count": null,
   "metadata": {},
   "outputs": [],
   "source": []
  }
 ],
 "metadata": {
  "kernelspec": {
   "display_name": "Python 3",
   "language": "python",
   "name": "python3"
  },
  "language_info": {
   "codemirror_mode": {
    "name": "ipython",
    "version": 3
   },
   "file_extension": ".py",
   "mimetype": "text/x-python",
   "name": "python",
   "nbconvert_exporter": "python",
   "pygments_lexer": "ipython3",
   "version": "3.7.3"
  }
 },
 "nbformat": 4,
 "nbformat_minor": 4
}
