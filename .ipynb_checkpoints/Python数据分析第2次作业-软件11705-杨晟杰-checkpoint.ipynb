{
 "cells": [
  {
   "cell_type": "markdown",
   "metadata": {},
   "source": [
    "### 关于Numpy的练习题\n",
    "\n",
    "这是一些常见的Numpy功能的实现练习\n",
    "\n",
    "**提交要求**：\n",
    "- 必须用Jupyter Notebook完成，保存为ipynb格式提交\n",
    "- 提交文件名为“Python数据分析第2次作业+班级+姓名.ipynb” （注：请规范文件名）\n",
    "- 提交到刘顿同学的邮箱 810792334@qq.com\n",
    "- 提交的截止时间为2019年3月1日下午17:00"
   ]
  },
  {
   "cell_type": "markdown",
   "metadata": {},
   "source": [
    "<hr>\n",
    "\n",
    "（1）如何查找数组的内存大小"
   ]
  },
  {
   "cell_type": "code",
   "execution_count": 1,
   "metadata": {},
   "outputs": [
    {
     "name": "stdout",
     "output_type": "stream",
     "text": [
      "a的内存大小为: 20\n"
     ]
    }
   ],
   "source": [
    "import numpy as np\n",
    "import sys\n",
    "\n",
    "a=np.array([1,2,3,4,5])\n",
    "print(\"a的内存大小为:\",a.size*a.itemsize)"
   ]
  },
  {
   "cell_type": "markdown",
   "metadata": {},
   "source": [
    "<hr>\n",
    "\n",
    "(2) 创建大小为10的空向量，但第五个值为1"
   ]
  },
  {
   "cell_type": "code",
   "execution_count": 2,
   "metadata": {},
   "outputs": [
    {
     "name": "stdout",
     "output_type": "stream",
     "text": [
      "[0. 0. 0. 0. 1. 0. 0. 0. 0.]\n"
     ]
    }
   ],
   "source": [
    "vec=np.zeros(9)\n",
    "vec[4]=1\n",
    "print(vec)"
   ]
  },
  {
   "cell_type": "markdown",
   "metadata": {},
   "source": [
    "<hr>\n",
    "\n",
    "(3) 创建一个3x3矩阵，其值范围为0到8"
   ]
  },
  {
   "cell_type": "code",
   "execution_count": 3,
   "metadata": {},
   "outputs": [
    {
     "name": "stdout",
     "output_type": "stream",
     "text": [
      "[[0 1 2]\n",
      " [3 4 5]\n",
      " [6 7 8]]\n"
     ]
    }
   ],
   "source": [
    "a1= np.arange(9).reshape(3,3)\n",
    "print(a1)"
   ]
  },
  {
   "cell_type": "markdown",
   "metadata": {},
   "source": [
    "<hr>\n",
    "\n",
    "(4)  创建一个2d数组，边框为1，内部为0"
   ]
  },
  {
   "cell_type": "code",
   "execution_count": 4,
   "metadata": {},
   "outputs": [
    {
     "name": "stdout",
     "output_type": "stream",
     "text": [
      "[[1. 1. 1. 1. 1. 1. 1. 1. 1. 1.]\n",
      " [1. 0. 0. 0. 0. 0. 0. 0. 0. 1.]\n",
      " [1. 0. 0. 0. 0. 0. 0. 0. 0. 1.]\n",
      " [1. 0. 0. 0. 0. 0. 0. 0. 0. 1.]\n",
      " [1. 0. 0. 0. 0. 0. 0. 0. 0. 1.]\n",
      " [1. 0. 0. 0. 0. 0. 0. 0. 0. 1.]\n",
      " [1. 0. 0. 0. 0. 0. 0. 0. 0. 1.]\n",
      " [1. 0. 0. 0. 0. 0. 0. 0. 0. 1.]\n",
      " [1. 0. 0. 0. 0. 0. 0. 0. 0. 1.]\n",
      " [1. 1. 1. 1. 1. 1. 1. 1. 1. 1.]]\n"
     ]
    }
   ],
   "source": [
    "def create(n):\n",
    "    arr=np.zeros([n]*2)\n",
    "    arr[[0,-1],:]=1\n",
    "    arr[:,[0,-1]]=1\n",
    "    return arr\n",
    "\n",
    "a2=create(10)\n",
    "print(a2)"
   ]
  },
  {
   "cell_type": "markdown",
   "metadata": {},
   "source": [
    "<hr>\n",
    "\n",
    "(5) 考虑一个（6,7,8）形状数组，第100个元素的索引（x，y，z）是什么？"
   ]
  },
  {
   "cell_type": "code",
   "execution_count": 5,
   "metadata": {},
   "outputs": [
    {
     "name": "stdout",
     "output_type": "stream",
     "text": [
      "第100个元素的索引是: (1, 5, 4)\n"
     ]
    }
   ],
   "source": [
    "print(\"第100个元素的索引是:\",np.unravel_index(100,(6,7,8)))"
   ]
  },
  {
   "cell_type": "markdown",
   "metadata": {},
   "source": [
    "<hr>\n",
    "\n",
    "(6) 将5x3矩阵乘以3x2矩阵（实矩阵乘积）"
   ]
  },
  {
   "cell_type": "code",
   "execution_count": 6,
   "metadata": {},
   "outputs": [
    {
     "name": "stdout",
     "output_type": "stream",
     "text": [
      "[[3. 3.]\n",
      " [3. 3.]\n",
      " [3. 3.]\n",
      " [3. 3.]\n",
      " [3. 3.]]\n"
     ]
    }
   ],
   "source": [
    "a3=np.ones((5,3))@np.ones((3,2))\n",
    "print(a3)"
   ]
  },
  {
   "cell_type": "markdown",
   "metadata": {},
   "source": [
    "<hr>\n",
    "\n",
    "(7) 如何获得与2020年3月相对应的所有日期？"
   ]
  },
  {
   "cell_type": "code",
   "execution_count": 7,
   "metadata": {},
   "outputs": [
    {
     "name": "stdout",
     "output_type": "stream",
     "text": [
      "['2020-03-01' '2020-03-02' '2020-03-03' '2020-03-04' '2020-03-05'\n",
      " '2020-03-06' '2020-03-07' '2020-03-08' '2020-03-09' '2020-03-10'\n",
      " '2020-03-11' '2020-03-12' '2020-03-13' '2020-03-14' '2020-03-15'\n",
      " '2020-03-16' '2020-03-17' '2020-03-18' '2020-03-19' '2020-03-20'\n",
      " '2020-03-21' '2020-03-22' '2020-03-23' '2020-03-24' '2020-03-25'\n",
      " '2020-03-26' '2020-03-27' '2020-03-28' '2020-03-29' '2020-03-30'\n",
      " '2020-03-31']\n"
     ]
    }
   ],
   "source": [
    "a4=np.arange('2020-03', '2020-04', dtype='datetime64[D]')\n",
    "print(a4)"
   ]
  },
  {
   "cell_type": "markdown",
   "metadata": {},
   "source": [
    "<hr>\n",
    "\n",
    "(8) 创建一个大小为10的向量，其值范围为0到1；但是0和1都被排除"
   ]
  },
  {
   "cell_type": "code",
   "execution_count": 8,
   "metadata": {},
   "outputs": [
    {
     "name": "stdout",
     "output_type": "stream",
     "text": [
      "[0.09090909 0.18181818 0.27272727 0.36363636 0.45454545 0.54545455\n",
      " 0.63636364 0.72727273 0.81818182 0.90909091]\n"
     ]
    }
   ],
   "source": [
    "a5=np.linspace(0,1,11,endpoint=False)[1:]\n",
    "print(a5)"
   ]
  },
  {
   "cell_type": "markdown",
   "metadata": {},
   "source": [
    " <hr>\n",
    "\n",
    "(9) 减去矩阵每行的平均值，输出新的矩阵"
   ]
  },
  {
   "cell_type": "code",
   "execution_count": 9,
   "metadata": {},
   "outputs": [
    {
     "name": "stdout",
     "output_type": "stream",
     "text": [
      "原数组为:\n",
      " [[0.98825988 0.7626228  0.3053863  0.89607823 0.01115976]\n",
      " [0.26048467 0.09134349 0.05031374 0.95174256 0.47533494]\n",
      " [0.49406093 0.6752283  0.38296134 0.88263576 0.02814603]\n",
      " [0.15051007 0.62277038 0.82584179 0.34035085 0.18188635]]\n",
      "每行减去平均值后的数组为:\n",
      " [[ 0.39555848  0.16992141 -0.28731509  0.30337684 -0.58154164]\n",
      " [-0.1053592  -0.27450039 -0.31553014  0.58589868  0.10949106]\n",
      " [ 0.00145446  0.18262182 -0.10964513  0.39002929 -0.46446044]\n",
      " [-0.27376182  0.19849849  0.4015699  -0.08392104 -0.24238554]]\n"
     ]
    }
   ],
   "source": [
    "a6=np.random.rand(4,5)\n",
    "print(\"原数组为:\\n\",a6)\n",
    "a6=a6-a6.mean(axis=1,keepdims=True)\n",
    "print(\"每行减去平均值后的数组为:\\n\",a6)"
   ]
  },
  {
   "cell_type": "markdown",
   "metadata": {},
   "source": [
    " <hr>\n",
    "\n",
    "(10) 考虑四维数组，如何一次得到最后两个轴的总和？"
   ]
  },
  {
   "cell_type": "code",
   "execution_count": 10,
   "metadata": {},
   "outputs": [
    {
     "name": "stdout",
     "output_type": "stream",
     "text": [
      "[[[[9 2 2 5 1 8 7]\n",
      "   [8 0 4 6 4 8 6]\n",
      "   [1 0 8 7 7 8 6]\n",
      "   [1 1 0 2 3 3 2]\n",
      "   [6 4 9 7 6 3 4]\n",
      "   [8 7 4 8 9 0 5]]\n",
      "\n",
      "  [[6 5 5 7 3 4 0]\n",
      "   [4 0 3 5 0 2 0]\n",
      "   [2 9 9 9 7 6 8]\n",
      "   [4 1 3 4 1 6 8]\n",
      "   [4 7 7 8 7 1 1]\n",
      "   [9 3 8 9 0 3 8]]\n",
      "\n",
      "  [[9 0 5 6 1 8 1]\n",
      "   [4 3 3 2 4 4 4]\n",
      "   [3 1 7 1 5 0 1]\n",
      "   [8 6 0 0 0 5 3]\n",
      "   [8 8 1 3 3 4 7]\n",
      "   [6 4 8 6 9 1 2]]\n",
      "\n",
      "  [[4 6 5 1 3 4 7]\n",
      "   [7 9 0 4 3 2 9]\n",
      "   [8 0 9 7 0 2 6]\n",
      "   [2 9 7 3 9 6 9]\n",
      "   [4 0 3 0 0 8 8]\n",
      "   [0 3 0 5 5 4 4]]\n",
      "\n",
      "  [[1 4 9 9 1 9 9]\n",
      "   [1 8 6 2 8 0 7]\n",
      "   [7 3 9 0 7 2 2]\n",
      "   [2 8 7 9 2 7 6]\n",
      "   [7 6 7 3 1 1 1]\n",
      "   [7 0 5 8 5 8 5]]]\n",
      "\n",
      "\n",
      " [[[4 0 7 0 1 1 8]\n",
      "   [2 6 8 2 0 9 6]\n",
      "   [1 6 8 8 8 6 5]\n",
      "   [5 6 9 5 3 9 9]\n",
      "   [3 7 8 1 9 0 2]\n",
      "   [2 6 3 2 9 8 8]]\n",
      "\n",
      "  [[4 4 9 5 1 2 4]\n",
      "   [9 1 1 3 6 1 0]\n",
      "   [7 9 6 9 0 2 5]\n",
      "   [5 5 5 8 6 2 5]\n",
      "   [5 2 5 5 4 9 4]\n",
      "   [6 9 4 2 0 4 8]]\n",
      "\n",
      "  [[9 6 2 9 8 8 7]\n",
      "   [0 5 9 9 1 1 6]\n",
      "   [4 8 4 7 1 2 9]\n",
      "   [5 0 6 8 1 8 8]\n",
      "   [5 3 9 1 1 7 2]\n",
      "   [0 9 8 3 1 1 5]]\n",
      "\n",
      "  [[8 7 8 5 1 6 7]\n",
      "   [3 3 6 4 0 8 3]\n",
      "   [7 7 3 0 2 2 1]\n",
      "   [5 6 7 2 7 4 2]\n",
      "   [5 5 7 1 8 0 8]\n",
      "   [5 6 1 4 6 7 4]]\n",
      "\n",
      "  [[0 2 4 2 4 5 6]\n",
      "   [9 7 8 5 5 5 1]\n",
      "   [4 9 1 4 9 2 2]\n",
      "   [8 6 0 6 9 1 4]\n",
      "   [3 3 6 7 9 1 5]\n",
      "   [7 5 1 1 3 9 8]]]\n",
      "\n",
      "\n",
      " [[[8 0 8 4 4 5 9]\n",
      "   [5 1 3 8 0 1 6]\n",
      "   [8 0 6 7 0 7 8]\n",
      "   [3 4 2 1 0 8 9]\n",
      "   [2 9 9 4 4 3 5]\n",
      "   [9 5 9 9 1 6 7]]\n",
      "\n",
      "  [[1 0 7 5 9 6 6]\n",
      "   [6 8 4 3 5 0 2]\n",
      "   [6 3 4 0 1 5 5]\n",
      "   [1 5 6 5 2 4 0]\n",
      "   [7 5 5 3 9 0 3]\n",
      "   [1 0 4 2 8 5 0]]\n",
      "\n",
      "  [[0 2 4 8 3 4 8]\n",
      "   [0 5 4 9 5 6 5]\n",
      "   [0 9 9 9 2 3 6]\n",
      "   [3 1 4 5 0 7 0]\n",
      "   [1 3 3 4 3 3 8]\n",
      "   [6 2 9 2 4 1 1]]\n",
      "\n",
      "  [[8 7 1 3 8 3 6]\n",
      "   [5 6 5 9 6 0 9]\n",
      "   [0 1 6 0 1 3 8]\n",
      "   [6 6 0 3 5 6 7]\n",
      "   [9 1 7 0 7 6 3]\n",
      "   [1 9 6 6 6 9 9]]\n",
      "\n",
      "  [[2 5 5 4 5 9 7]\n",
      "   [0 7 7 2 9 5 2]\n",
      "   [9 3 8 7 7 2 9]\n",
      "   [5 9 5 2 7 1 0]\n",
      "   [9 0 7 8 6 7 3]\n",
      "   [2 1 8 6 7 0 3]]]\n",
      "\n",
      "\n",
      " [[[2 9 9 1 5 2 1]\n",
      "   [7 6 0 0 2 3 1]\n",
      "   [5 7 7 5 8 9 4]\n",
      "   [3 1 6 9 6 5 4]\n",
      "   [4 3 2 9 7 0 4]\n",
      "   [6 1 0 4 4 5 9]]\n",
      "\n",
      "  [[5 4 0 6 1 6 9]\n",
      "   [7 8 0 9 2 7 7]\n",
      "   [2 6 0 9 2 1 1]\n",
      "   [3 1 8 3 2 0 8]\n",
      "   [6 8 7 7 1 2 0]\n",
      "   [3 0 2 4 7 7 7]]\n",
      "\n",
      "  [[6 7 4 1 6 6 3]\n",
      "   [3 9 0 2 2 8 9]\n",
      "   [7 1 0 3 1 3 7]\n",
      "   [8 3 9 0 2 4 4]\n",
      "   [0 9 8 8 9 8 1]\n",
      "   [3 6 1 1 5 8 3]]\n",
      "\n",
      "  [[9 0 9 1 1 6 4]\n",
      "   [4 1 4 1 0 7 3]\n",
      "   [8 5 3 1 6 2 4]\n",
      "   [7 4 3 1 2 8 3]\n",
      "   [5 3 0 0 7 4 9]\n",
      "   [5 2 4 7 0 8 3]]\n",
      "\n",
      "  [[5 2 8 8 7 1 6]\n",
      "   [5 1 9 9 2 8 7]\n",
      "   [2 0 6 1 6 5 1]\n",
      "   [8 7 6 5 2 7 1]\n",
      "   [2 1 9 1 9 9 3]\n",
      "   [3 6 5 0 7 5 9]]]]\n",
      "最后两个轴的总和为: [[199 196 164 185 209]\n",
      " [210 191 206 191 196]\n",
      " [207 161 171 207 210]\n",
      " [185 178 188 164 204]]\n"
     ]
    }
   ],
   "source": [
    "a7=np.random.randint(0,10,(4,5,6,7))\n",
    "print(a7)\n",
    "final_sum=a7.sum(axis=(-2,-1))\n",
    "print(\"最后两个轴的总和为:\",final_sum)"
   ]
  },
  {
   "cell_type": "markdown",
   "metadata": {},
   "source": [
    " <hr>\n",
    "\n",
    "(11) 考虑一个数组 Z = [1,2,3,4,5,6,7,8,9,10,11,12,13,14], 如何生成一个数组 R = [[1,2,3,4], [2,3,4,5], [3,4,5,6], ..., [11,12,13,14]]? "
   ]
  },
  {
   "cell_type": "code",
   "execution_count": 11,
   "metadata": {},
   "outputs": [
    {
     "name": "stdout",
     "output_type": "stream",
     "text": [
      "Help on function as_strided in module numpy.lib.stride_tricks:\n",
      "\n",
      "as_strided(x, shape=None, strides=None, subok=False, writeable=True)\n",
      "    Create a view into the array with the given shape and strides.\n",
      "    \n",
      "    .. warning:: This function has to be used with extreme care, see notes.\n",
      "    \n",
      "    Parameters\n",
      "    ----------\n",
      "    x : ndarray\n",
      "        Array to create a new.\n",
      "    shape : sequence of int, optional\n",
      "        The shape of the new array. Defaults to ``x.shape``.\n",
      "    strides : sequence of int, optional\n",
      "        The strides of the new array. Defaults to ``x.strides``.\n",
      "    subok : bool, optional\n",
      "        .. versionadded:: 1.10\n",
      "    \n",
      "        If True, subclasses are preserved.\n",
      "    writeable : bool, optional\n",
      "        .. versionadded:: 1.12\n",
      "    \n",
      "        If set to False, the returned array will always be readonly.\n",
      "        Otherwise it will be writable if the original array was. It\n",
      "        is advisable to set this to False if possible (see Notes).\n",
      "    \n",
      "    Returns\n",
      "    -------\n",
      "    view : ndarray\n",
      "    \n",
      "    See also\n",
      "    --------\n",
      "    broadcast_to: broadcast an array to a given shape.\n",
      "    reshape : reshape an array.\n",
      "    \n",
      "    Notes\n",
      "    -----\n",
      "    ``as_strided`` creates a view into the array given the exact strides\n",
      "    and shape. This means it manipulates the internal data structure of\n",
      "    ndarray and, if done incorrectly, the array elements can point to\n",
      "    invalid memory and can corrupt results or crash your program.\n",
      "    It is advisable to always use the original ``x.strides`` when\n",
      "    calculating new strides to avoid reliance on a contiguous memory\n",
      "    layout.\n",
      "    \n",
      "    Furthermore, arrays created with this function often contain self\n",
      "    overlapping memory, so that two elements are identical.\n",
      "    Vectorized write operations on such arrays will typically be\n",
      "    unpredictable. They may even give different results for small, large,\n",
      "    or transposed arrays.\n",
      "    Since writing to these arrays has to be tested and done with great\n",
      "    care, you may want to use ``writeable=False`` to avoid accidental write\n",
      "    operations.\n",
      "    \n",
      "    For these reasons it is advisable to avoid ``as_strided`` when\n",
      "    possible.\n",
      "\n"
     ]
    }
   ],
   "source": [
    "help(np.lib.stride_tricks.as_strided)"
   ]
  },
  {
   "cell_type": "markdown",
   "metadata": {},
   "source": [
    "<a href=\"https://www.jb51.cc/python/185910.html\"><img src=\"https://www.jb51.cc/images/logo.jpg\">\n",
    "    \n",
    "**点击图片去看用法**"
   ]
  },
  {
   "cell_type": "code",
   "execution_count": 12,
   "metadata": {},
   "outputs": [
    {
     "name": "stdout",
     "output_type": "stream",
     "text": [
      "[[ 1  2  3  4]\n",
      " [ 2  3  4  5]\n",
      " [ 3  4  5  6]\n",
      " [ 4  5  6  7]\n",
      " [ 5  6  7  8]\n",
      " [ 6  7  8  9]\n",
      " [ 7  8  9 10]\n",
      " [ 8  9 10 11]\n",
      " [ 9 10 11 12]\n",
      " [10 11 12 13]\n",
      " [11 12 13 14]]\n"
     ]
    }
   ],
   "source": [
    "Z=np.arange(1,15)\n",
    "R=np.lib.stride_tricks.as_strided(Z,(11,4),(4,4))\n",
    "print(R)"
   ]
  },
  {
   "cell_type": "markdown",
   "metadata": {},
   "source": [
    " <hr>\n",
    "\n",
    "(12) 如何在长度为100的随机数组中找到最常见的值？"
   ]
  },
  {
   "cell_type": "code",
   "execution_count": 13,
   "metadata": {},
   "outputs": [
    {
     "name": "stdout",
     "output_type": "stream",
     "text": [
      "[4 4 0 1 4 0 1 4 1 2 1 4 0 1 3 0 0 1 2 3 4 3 1 4 2 1 0 1 3 3 3 1 2 3 2 4 1\n",
      " 1 3 1 2 3 0 0 4 0 2 2 3 2 0 2 1 0 4 4 0 4 1 2 0 0 4 0 2 0 3 4 4 1 4 3 2 4\n",
      " 1 1 0 4 4 0 0 2 2 1 3 2 3 2 4 3 1 3 3 0 4 2 4 2 4 0]\n",
      "最常见的值为: 4\n"
     ]
    }
   ],
   "source": [
    "a8=np.random.randint(0,5,100)\n",
    "print(a8)\n",
    "print(\"最常见的值为:\",np.bincount(a8).argmax())"
   ]
  },
  {
   "cell_type": "markdown",
   "metadata": {},
   "source": [
    " <hr>\n",
    "\n",
    "(13) 如何获取长度为100的随机数组中的前n个最大值"
   ]
  },
  {
   "cell_type": "markdown",
   "metadata": {},
   "source": [
    "<a href=\"https://blog.csdn.net/MacwinWin/article/details/80002584\">\n",
    "点击查看np.argpartition的使用"
   ]
  },
  {
   "cell_type": "code",
   "execution_count": 14,
   "metadata": {},
   "outputs": [
    {
     "name": "stdout",
     "output_type": "stream",
     "text": [
      "[988 980 967 953 928 925 924 901 857 853 840 832 824 821 820 809 807 792\n",
      " 756 754 722 711 699 693 689 684 671 666 657 651 647 645 632 631 585 584\n",
      " 584 565 551 547 537 522 508 500 497 485 468 435 429 428 420 415 413 401\n",
      " 396 396 369 357 355 330 321 316 303 293 290 288 284 270 262 258 253 237\n",
      " 233 223 223 213 201 195 168 165 159 148 142 120 120 115 110 106 102  94\n",
      "  91  75  73  68  54  47  43  32  24  15]\n"
     ]
    },
    {
     "name": "stdin",
     "output_type": "stream",
     "text": [
      "请输入想找到前多少个最大值: 5\n"
     ]
    },
    {
     "name": "stdout",
     "output_type": "stream",
     "text": [
      "前5个最大值为: [928 953 967 980 988]\n"
     ]
    }
   ],
   "source": [
    "a9=np.random.randint(0,1000,100,dtype=int)\n",
    "print(np.sort(a9)[::-1])\n",
    "n=int(input(\"请输入想找到前多少个最大值:\"))\n",
    "print(f\"前{n}个最大值为:\",a9[np.argpartition(a9,-n)[-n:]])"
   ]
  },
  {
   "cell_type": "markdown",
   "metadata": {},
   "source": [
    "<hr>\n",
    "\n",
    "#### 有兴趣的同学，欢迎继续挑战本次练习的完整题库\n",
    "\n",
    "[ref] https://github.com/rougier/numpy-100"
   ]
  }
 ],
 "metadata": {
  "kernelspec": {
   "display_name": "Python 3",
   "language": "python",
   "name": "python3"
  },
  "language_info": {
   "codemirror_mode": {
    "name": "ipython",
    "version": 3
   },
   "file_extension": ".py",
   "mimetype": "text/x-python",
   "name": "python",
   "nbconvert_exporter": "python",
   "pygments_lexer": "ipython3",
   "version": "3.7.3"
  }
 },
 "nbformat": 4,
 "nbformat_minor": 4
}
